{
  "cells": [
    {
      "cell_type": "code",
      "execution_count": 6,
      "id": "2f2e4a1b",
      "metadata": {
        "id": "2f2e4a1b"
      },
      "outputs": [],
      "source": [
        "#@title Coarse Grain representation of DNA\n",
        "## For G-Drive Upload\n",
        "#from google.colab import drive\n",
        "#drive.mount('/content/drive/')\n",
        "#%cd /content/drive/My\\ Drive\n",
        "\n",
        "import numpy as np\n",
        "import pandas as pd\n",
        "from sklearn.model_selection import train_test_split\n",
        "\n",
        "\n",
        "file1 = [];count = 0\n",
        "phos = [];sugar = [];baseA = [];baseT = [];baseG = [];baseC = []\n",
        "final_phos = [];final_sugar = [];final_baseA = [];final_baseT = [];final_baseG = [];final_baseC = []\n",
        "\n",
        "with open(\"test.pdb\") as file:\n",
        "    for line in file:\n",
        "        if (line[0:4] == \"ATOM\"):\n",
        "            a = line.split()\n",
        "            file1.append(a)\n",
        "\n",
        "\n",
        "\n",
        "\n",
        "for line in file1:\n",
        "    if(line[5] != \"1\" and line[5] != \"56\"):\n",
        "        if(line[2] == \"P\" or line[2] == \"O5'\" or line[2] == \"OP1\" or line[2] == \"OP2\" or line[2] == \"O1P\" or line[2] == \"O2P\"):\n",
        "            phos.append(float(line[6]))\n",
        "            phos.append(float(line[7]))\n",
        "            phos.append(float(line[8]))\n",
        "            final_phos.append(phos)\n",
        "\n",
        "            phos = []\n",
        "\n",
        "    if(line[2] == \"C2'\"  or line[2] == \"C4'\" or line[2] == \"O4'\" or line[2] == \"C3'\" or line[2] == \"C5'\" or line[2] == \"C1'\"):\n",
        "        sugar.append(float(line[6]))\n",
        "        sugar.append(float(line[7]))\n",
        "        sugar.append(float(line[8]))\n",
        "        final_sugar.append(sugar)\n",
        "        count+=1\n",
        "        sugar = []\n",
        "\n",
        "    if(line[3] == \"DA\" and (line[2] == \"N1\" or line[2] ==\"C2\" or line[2] ==\"N3\" or line[2] ==\"C4\" or line[2] ==\"C5\" or line[2]==\"C6\" or line[2] ==\"N6\" or line[2] ==\"N7\" or line[2] ==\"C8\" or line[2] ==\"N9\")):\n",
        "        baseA.append(float(line[6]))\n",
        "        baseA.append(float(line[7]))\n",
        "        baseA.append(float(line[8]))\n",
        "        final_baseA.append(baseA)\n",
        "        baseA = []\n",
        "\n",
        "\n",
        "    if(line[3] == \"DT\" and (line[2] == \"N1\" or line[2]==\"C2\" or line[2] ==\"O2\" or line[2]==\"N3\" or line[2]==\"C4\" or line[2]==\"O4\" or line[2]==\"C5\" or line[2]==\"C5M\" or line[2]==\"C6\")):\n",
        "        baseT.append(float(line[6]))\n",
        "        baseT.append(float(line[7]))\n",
        "        baseT.append(float(line[8]))\n",
        "        final_baseT.append(baseT)\n",
        "        baseT = []\n",
        "\n",
        "\n",
        "    if(line[3] == \"DG\" and (line[2]==\"N1\" or line[2]==\"C2\" or line[2]==\"N2\" or line[2]==\"N3\" or line[2]==\"C4\" or line[2]==\"C5\" or line[2]==\"C6\" or line[2]==\"O6\" or line[2]==\"N7\" or line[2]==\"C8\" or line[2]==\"N9\")):\n",
        "        baseG.append(float(line[6]))\n",
        "        baseG.append(float(line[7]))\n",
        "        baseG.append(float(line[8]))\n",
        "        final_baseG.append(baseG)\n",
        "        baseG = []\n",
        "\n",
        "\n",
        "    if(line[3]==\"DC\" and (line[2]==\"N1\" or line[2]==\"C2\" or line[2]==\"O2\" or line[2]==\"N3\" or line[2]==\"C4\" or line[2]==\"N4\" or line[2]==\"C5\" or line[2]==\"C6\")):\n",
        "        baseC.append(float(line[6]))\n",
        "        baseC.append(float(line[7]))\n",
        "        baseC.append(float(line[8]))\n",
        "        final_baseC.append(baseC)\n",
        "        baseC = []\n",
        "\n"
      ]
    },
    {
      "cell_type": "markdown",
      "source": [
        "Functions for CG, Parameters & Test-train split"
      ],
      "metadata": {
        "id": "6s5gYQsNWt4R"
      },
      "id": "6s5gYQsNWt4R"
    },
    {
      "cell_type": "code",
      "execution_count": null,
      "id": "7e6c68fa",
      "metadata": {
        "id": "7e6c68fa"
      },
      "outputs": [],
      "source": [
        "def coarse_grain(final_res,n_atom):\n",
        "    final_cg = []; final_res_cg=[];\n",
        "    constraintsX=[];constraintsY=[];constraintsZ=[];\n",
        "    final_constrinX=[];final_constrinY=[];final_constrinZ=[];final_dis = [];final_vec = []\n",
        "    for i in range(0, len(final_res),n_atom):\n",
        "        a=0;b=0;c=0\n",
        "        dis=[];vec=[]\n",
        "        for j in range(n_atom):\n",
        "\n",
        "            a+= final_res[i+j][0]\n",
        "            b+= final_res[i+j][1]\n",
        "            c+= final_res[i+j][2]\n",
        "\n",
        "        a = round(a/n_atom,3); b = round(b/n_atom,3); c = round(c/n_atom,3)\n",
        "        for j in range(n_atom):\n",
        "            ra = a - final_res[i+j][0]\n",
        "            rb = b - final_res[i+j][1]\n",
        "            rc = c - final_res[i+j][2]\n",
        "            constraintsX.append(ra)\n",
        "            constraintsY.append(rb)\n",
        "            constraintsZ.append(rc)\n",
        "            temp = np.array([ra,rb,rc])\n",
        "            vec.append(temp)\n",
        "            dis1 = ((a - final_res[i+j][0])**2 + (b - final_res[i+j][1])**2 + (c - final_res[i+j][2])**2)**(0.5)\n",
        "            dis.append(dis1)\n",
        "        final_vec.append(vec)\n",
        "        final_dis.append(dis)\n",
        "        final_constrinX.append(constraintsX)\n",
        "        final_constrinY.append(constraintsY)\n",
        "        final_constrinZ.append(constraintsZ)\n",
        "        constraintsX = []; constraintsY = []; constraintsZ = []\n",
        "        final_cg.append(a); final_cg.append(b); final_cg.append(c)\n",
        "        final_res_cg.append(final_cg)\n",
        "        final_cg = []\n",
        "    return final_res_cg,final_constrinX,final_constrinY,final_constrinZ,final_dis,final_vec\n",
        "\n",
        "def distance_param(final_constrinX,final_constrinY,final_constrinZ):\n",
        "    final_constrinX = pd.DataFrame(final_constrinX)\n",
        "    final_constrinY = pd.DataFrame(final_constrinY)\n",
        "    final_constrinZ = pd.DataFrame(final_constrinZ)\n",
        "    final_constrinX_sq = final_constrinX**2\n",
        "    final_constrinY_sq = final_constrinY**2\n",
        "    final_constrinZ_sq = final_constrinZ**2\n",
        "\n",
        "    R = final_constrinX_sq + final_constrinY_sq + final_constrinZ_sq\n",
        "    Rsqrt = np.sqrt(R)\n",
        "    return Rsqrt\n",
        "\n",
        "\n",
        "\n",
        "\n",
        "def test_train(final_res_cg,dist_res,final_res,n_res,final_angle):\n",
        "    dataX=[]\n",
        "    for i in range(len(final_res_cg)):\n",
        "        tmp=[]\n",
        "        for j in range(n_res):\n",
        "\n",
        "            tmp.append([final_res_cg[i][0],dist_res[j],final_res_cg[i][1],dist_res[j],final_res_cg[i][2],dist_res[j],final_angle[j]])\n",
        "        dataX.append(tmp)\n",
        "    dataX=np.reshape(dataX,(len(dataX),7*n_res))\n",
        "    dataY=final_res\n",
        "    return dataX,dataY"
      ]
    },
    {
      "cell_type": "markdown",
      "id": "75b36f2f",
      "metadata": {
        "id": "75b36f2f"
      },
      "source": [
        "## Phosphorous"
      ]
    },
    {
      "cell_type": "markdown",
      "id": "ae070ac5",
      "metadata": {
        "id": "ae070ac5"
      },
      "source": [
        "### Testing p on other data"
      ]
    },
    {
      "cell_type": "code",
      "execution_count": null,
      "id": "580e11c2",
      "metadata": {
        "id": "580e11c2"
      },
      "outputs": [],
      "source": [
        "test_p = [[37.170,  38.080, 124.130],\n",
        "[35.260,  39.070, 122.810],\n",
        "[35.820,  36.500, 122.780],\n",
        "[38.290,  32.730, 119.740]]"
      ]
    },
    {
      "cell_type": "code",
      "execution_count": null,
      "id": "a1e48d59",
      "metadata": {
        "id": "a1e48d59"
      },
      "outputs": [],
      "source": [
        "final_phos_one,final_constrinPX_one,final_constrinPY_one,final_constrinPZ_one,final_disp_one,final_vecp_one = coarse_grain(test_p,n_phos)"
      ]
    },
    {
      "cell_type": "code",
      "execution_count": null,
      "id": "4785a05d",
      "metadata": {
        "id": "4785a05d"
      },
      "outputs": [],
      "source": [
        "test_p = np.array(test_p);\n",
        "final_phos_one = np.array(final_phos_one)\n",
        "final_phos_one_reshaped = np.reshape(test_p, (len(final_phos_one), 3*n_phos))"
      ]
    },
    {
      "cell_type": "code",
      "execution_count": null,
      "id": "61eea4e6",
      "metadata": {
        "id": "61eea4e6"
      },
      "outputs": [],
      "source": [
        "one_p = test_train(final_phos_one_reshaped,dist_p,test_p,n_phos,final_angle_p)"
      ]
    },
    {
      "cell_type": "code",
      "execution_count": null,
      "id": "4aa4569a",
      "metadata": {
        "id": "4aa4569a",
        "outputId": "3cb7afeb-768f-4e1b-d086-9cc2ed749b07"
      },
      "outputs": [
        {
          "name": "stdout",
          "output_type": "stream",
          "text": [
            "(array([[ 37.17      ,   0.334947  ,  38.08      ,   0.334947  ,\n",
            "        124.13      ,   0.334947  ,  87.78503187,  37.17      ,\n",
            "          1.44695243,  38.08      ,   1.44695243, 124.13      ,\n",
            "          1.44695243, 122.58655891,  37.17      ,   1.45175314,\n",
            "         38.08      ,   1.45175314, 124.13      ,   1.45175314,\n",
            "        117.96015479,  37.17      ,   1.4553798 ,  38.08      ,\n",
            "          1.4553798 , 124.13      ,   1.4553798 , 107.37685042]]), array([[ 37.17,  38.08, 124.13],\n",
            "       [ 35.26,  39.07, 122.81],\n",
            "       [ 35.82,  36.5 , 122.78],\n",
            "       [ 38.29,  32.73, 119.74]]))\n"
          ]
        }
      ],
      "source": [
        "print(one_p)"
      ]
    },
    {
      "cell_type": "code",
      "execution_count": null,
      "id": "b2a99718",
      "metadata": {
        "id": "b2a99718"
      },
      "outputs": [],
      "source": []
    },
    {
      "cell_type": "code",
      "execution_count": null,
      "id": "18a4f2a7",
      "metadata": {
        "id": "18a4f2a7"
      },
      "outputs": [],
      "source": [
        "n_phos=4;n_sugar=6;n_baseA = 10;n_baseT=8;n_baseG=11;n_baseC=8\n",
        "\n",
        "final_phos_cg,final_constrinPX,final_constrinPY,final_constrinPZ,final_disp,final_vecp = coarse_grain(final_phos,n_phos)\n",
        "\n",
        "dist_p=np.mean(distance_param(final_constrinPX,final_constrinPY,final_constrinPZ))\n",
        "\n",
        "final_phos_cg = np.array(final_phos_cg);\n",
        "final_phos = np.array(final_phos);\n",
        "final_phos = np.reshape(final_phos, (len(final_phos_cg), 3*n_phos))"
      ]
    },
    {
      "cell_type": "code",
      "execution_count": null,
      "id": "dcd0bd02",
      "metadata": {
        "id": "dcd0bd02",
        "outputId": "e6006a53-f428-4cf3-ed3a-c82951857b32"
      },
      "outputs": [
        {
          "data": {
            "text/plain": [
              "1.1722580917244876"
            ]
          },
          "execution_count": 7,
          "metadata": {},
          "output_type": "execute_result"
        }
      ],
      "source": [
        "dist_p"
      ]
    },
    {
      "cell_type": "markdown",
      "id": "4d0ef55b",
      "metadata": {
        "id": "4d0ef55b"
      },
      "source": [
        "## Sugar"
      ]
    },
    {
      "cell_type": "code",
      "execution_count": null,
      "id": "01e096d7",
      "metadata": {
        "id": "01e096d7"
      },
      "outputs": [],
      "source": [
        "final_sugar_cg,final_constrinSX,final_constrinSY,final_constrinSZ,final_disS,final_vecS = coarse_grain(final_sugar,n_sugar)\n",
        "\n",
        "dist_S=np.mean(distance_param(final_constrinSX,final_constrinSY,final_constrinSZ))\n",
        "\n",
        "final_sugar_cg = np.array(final_sugar_cg);\n",
        "final_sugar = np.array(final_sugar);\n",
        "final_sugar = np.reshape(final_sugar, (len(final_sugar_cg), 3*n_sugar))"
      ]
    },
    {
      "cell_type": "markdown",
      "id": "f16ba772",
      "metadata": {
        "id": "f16ba772"
      },
      "source": [
        "## BaseA"
      ]
    },
    {
      "cell_type": "code",
      "execution_count": null,
      "id": "26c62baf",
      "metadata": {
        "id": "26c62baf"
      },
      "outputs": [],
      "source": [
        "final_baseA_cg,final_constrinAX,final_constrinAY,final_constrinAZ,final_disA,final_vecA = coarse_grain(final_baseA,n_baseA)\n",
        "\n",
        "dist_BA=np.mean(distance_param(final_constrinAX,final_constrinAY,final_constrinAZ))\n",
        "\n",
        "final_baseA_cg = np.array(final_baseA_cg);\n",
        "final_baseA = np.array(final_baseA);\n",
        "final_baseA = np.reshape(final_baseA, (len(final_baseA_cg), 3*n_baseA))"
      ]
    },
    {
      "cell_type": "markdown",
      "id": "17d33dce",
      "metadata": {
        "id": "17d33dce"
      },
      "source": [
        "##  BaseT"
      ]
    },
    {
      "cell_type": "code",
      "execution_count": null,
      "id": "6cfe6096",
      "metadata": {
        "id": "6cfe6096"
      },
      "outputs": [],
      "source": [
        "final_baseT_cg,final_constrinTX,final_constrinTY,final_constrinTZ,final_disT,final_vecT = coarse_grain(final_baseT,n_baseT)\n",
        "\n",
        "dist_BT=np.mean(distance_param(final_constrinTX,final_constrinTY,final_constrinTZ))\n",
        "\n",
        "final_baseT_cg = np.array(final_baseT_cg);\n",
        "final_baseT = np.array(final_baseT);\n",
        "final_baseT = np.reshape(final_baseT, (len(final_baseT_cg), 3*n_baseT))"
      ]
    },
    {
      "cell_type": "markdown",
      "id": "b75ea348",
      "metadata": {
        "id": "b75ea348"
      },
      "source": [
        "## BaseG"
      ]
    },
    {
      "cell_type": "code",
      "execution_count": null,
      "id": "a12748e9",
      "metadata": {
        "id": "a12748e9"
      },
      "outputs": [],
      "source": [
        "final_baseG_cg,final_constrinGX,final_constrinGY,final_constrinGZ,final_disT,final_vecG = coarse_grain(final_baseG,n_baseG)\n",
        "\n",
        "dist_BG=np.mean(distance_param(final_constrinGX,final_constrinGY,final_constrinGZ))\n",
        "\n",
        "final_baseG_cg = np.array(final_baseG_cg);\n",
        "final_baseG = np.array(final_baseG);\n",
        "final_baseG = np.reshape(final_baseG, (len(final_baseG_cg), 3*n_baseG))"
      ]
    },
    {
      "cell_type": "markdown",
      "id": "3555aa35",
      "metadata": {
        "id": "3555aa35"
      },
      "source": [
        "## BaseC"
      ]
    },
    {
      "cell_type": "code",
      "execution_count": null,
      "id": "12211bc1",
      "metadata": {
        "id": "12211bc1"
      },
      "outputs": [],
      "source": [
        "final_baseC_cg,final_constrinCX,final_constrinCY,final_constrinCZ,final_disC,final_vecC = coarse_grain(final_baseC,n_baseC)\n",
        "\n",
        "dist_BC=np.mean(distance_param(final_constrinCX,final_constrinCY,final_constrinCZ))\n",
        "\n",
        "final_baseC_cg = np.array(final_baseC_cg);\n",
        "final_baseC = np.array(final_baseC);\n",
        "final_baseC = np.reshape(final_baseC, (len(final_baseC_cg), 3*n_baseC))"
      ]
    },
    {
      "cell_type": "code",
      "execution_count": null,
      "id": "2b6c33d3",
      "metadata": {
        "id": "2b6c33d3"
      },
      "outputs": [],
      "source": [
        "\n",
        "import keras as k\n",
        "from keras.models import Sequential\n",
        "from keras.layers import Dense\n"
      ]
    },
    {
      "cell_type": "markdown",
      "id": "911c3324",
      "metadata": {
        "id": "911c3324"
      },
      "source": [
        "###  Angles between Phosphorous atoms"
      ]
    },
    {
      "cell_type": "code",
      "execution_count": null,
      "id": "842d574d",
      "metadata": {
        "id": "842d574d"
      },
      "outputs": [],
      "source": [
        "import numpy as np\n",
        "import vg\n",
        "import math\n",
        "\n",
        "final_angle = []\n",
        "for i in (final_vecp):\n",
        "    angle = []\n",
        "    angle.append((vg.angle(i[0], i[1])))\n",
        "    angle.append((vg.angle(i[1], i[2])))\n",
        "    angle.append((vg.angle(i[2], i[3])))\n",
        "    angle.append((vg.angle(i[3], i[0])))\n",
        "    final_angle.append(angle)"
      ]
    },
    {
      "cell_type": "code",
      "execution_count": null,
      "id": "1f29d277",
      "metadata": {
        "id": "1f29d277"
      },
      "outputs": [],
      "source": [
        "final_angle_p = np.mean(pd.DataFrame(final_angle))"
      ]
    },
    {
      "cell_type": "code",
      "execution_count": null,
      "id": "255e018f",
      "metadata": {
        "id": "255e018f",
        "outputId": "85e7db0c-8495-4c43-dd60-7e35c95f9fc0"
      },
      "outputs": [
        {
          "data": {
            "text/plain": [
              "array([35.215, 22.175, 22.558])"
            ]
          },
          "execution_count": 135,
          "metadata": {},
          "output_type": "execute_result"
        }
      ],
      "source": [
        "final_phos_cg[0]"
      ]
    },
    {
      "cell_type": "code",
      "execution_count": null,
      "id": "1e38178d",
      "metadata": {
        "id": "1e38178d",
        "outputId": "ec2a885c-5d2f-4185-800a-b5746d120cb1"
      },
      "outputs": [
        {
          "name": "stdout",
          "output_type": "stream",
          "text": [
            "\n",
            "\n",
            " *********** Training Model for Phosphorus *********** \n",
            "\n"
          ]
        }
      ],
      "source": [
        "print(\"\\n\\n *********** Training Model for Phosphorus *********** \\n\")\n",
        "dataXp, dataYp = test_train(final_phos_cg,dist_p,final_phos,n_phos,final_angle_p)\n",
        "np_output = len(dataYp[0]);np_input = len(dataXp[0])\n",
        "Xp_train, Xp_test, yp_train, yp_test = train_test_split(dataXp, dataYp, test_size=0.1, random_state=1)\n",
        "\n"
      ]
    },
    {
      "cell_type": "code",
      "execution_count": null,
      "id": "86a476ab",
      "metadata": {
        "id": "86a476ab"
      },
      "outputs": [],
      "source": [
        "from sklearn.preprocessing import MinMaxScaler\n",
        "scaler = MinMaxScaler()\n",
        "X_train_normalized = scaler.fit_transform(Xp_train)\n",
        "X_test_normalized = scaler.transform(Xp_test)"
      ]
    },
    {
      "cell_type": "code",
      "execution_count": null,
      "id": "9ce2b893",
      "metadata": {
        "id": "9ce2b893",
        "outputId": "fe6bbf36-a858-4cc9-bba4-71336c0eca53"
      },
      "outputs": [
        {
          "data": {
            "text/plain": [
              "((97, 28), (11, 28))"
            ]
          },
          "execution_count": 60,
          "metadata": {},
          "output_type": "execute_result"
        }
      ],
      "source": [
        "(X_train_normalized).shape,X_test_normalized.shape"
      ]
    },
    {
      "cell_type": "markdown",
      "id": "71452cf3",
      "metadata": {
        "id": "71452cf3"
      },
      "source": [
        "##  Angles between Sugar atoms"
      ]
    },
    {
      "cell_type": "code",
      "execution_count": null,
      "id": "44f31724",
      "metadata": {
        "id": "44f31724"
      },
      "outputs": [],
      "source": [
        "import numpy as np\n",
        "import vg\n",
        "import math\n",
        "\n",
        "final_angle_sugar = []\n",
        "for i in (final_vecS):\n",
        "    angle = []\n",
        "    angle.append((vg.angle(i[0], i[1])))\n",
        "    angle.append((vg.angle(i[1], i[2])))\n",
        "    angle.append((vg.angle(i[2], i[3])))\n",
        "    angle.append((vg.angle(i[3], i[4])))\n",
        "    angle.append((vg.angle(i[4], i[5])))\n",
        "    angle.append((vg.angle(i[5], i[0])))\n",
        "\n",
        "    final_angle_sugar.append(angle)"
      ]
    },
    {
      "cell_type": "code",
      "execution_count": null,
      "id": "772547a3",
      "metadata": {
        "id": "772547a3"
      },
      "outputs": [],
      "source": [
        "final_angle_s = np.mean((pd.DataFrame(final_angle_sugar)))"
      ]
    },
    {
      "cell_type": "code",
      "execution_count": null,
      "id": "a659ffa0",
      "metadata": {
        "id": "a659ffa0",
        "outputId": "90ac6c35-36be-464c-ef1c-586fdd14f704"
      },
      "outputs": [
        {
          "name": "stdout",
          "output_type": "stream",
          "text": [
            "\n",
            "\n",
            " *********** Training Model for Sugar *********** \n",
            "\n"
          ]
        }
      ],
      "source": [
        "print(\"\\n\\n *********** Training Model for Sugar *********** \\n\")\n",
        "dataXs, dataYs = test_train(final_sugar_cg,dist_S,final_sugar,n_sugar,final_angle_s)\n",
        "ns_output = len(dataYs[0]);ns_input = len(dataXs[0])\n",
        "Xs_train, Xs_test, ys_train, ys_test = train_test_split(dataXs, dataYs, test_size=0.1, random_state=1)\n"
      ]
    },
    {
      "cell_type": "code",
      "execution_count": null,
      "id": "e8bb9187",
      "metadata": {
        "id": "e8bb9187"
      },
      "outputs": [],
      "source": [
        "import numpy as np\n",
        "import vg\n",
        "import math\n",
        "\n",
        "final_angle_baseA = []\n",
        "for i in (final_vecA):\n",
        "    angle = []\n",
        "    angle.append((vg.angle(i[0], i[1])))\n",
        "    angle.append((vg.angle(i[1], i[2])))\n",
        "    angle.append((vg.angle(i[2], i[3])))\n",
        "    angle.append((vg.angle(i[3], i[4])))\n",
        "    angle.append((vg.angle(i[4], i[5])))\n",
        "    angle.append((vg.angle(i[5], i[6])))\n",
        "    angle.append((vg.angle(i[6], i[7])))\n",
        "    angle.append((vg.angle(i[7], i[8])))\n",
        "    angle.append((vg.angle(i[8], i[9])))\n",
        "    angle.append((vg.angle(i[9], i[0])))\n",
        "    final_angle_baseA.append(angle)"
      ]
    },
    {
      "cell_type": "code",
      "execution_count": null,
      "id": "c7591ede",
      "metadata": {
        "id": "c7591ede"
      },
      "outputs": [],
      "source": [
        "final_angle_baseA = np.mean((pd.DataFrame(final_angle_baseA)))"
      ]
    },
    {
      "cell_type": "code",
      "execution_count": null,
      "id": "b23a221a",
      "metadata": {
        "id": "b23a221a",
        "outputId": "2e124739-7936-471f-b64b-8f46589a1b8c"
      },
      "outputs": [
        {
          "name": "stdout",
          "output_type": "stream",
          "text": [
            "\n",
            "\n",
            " *********** Training Model for BaseA *********** \n",
            "\n"
          ]
        }
      ],
      "source": [
        "print(\"\\n\\n *********** Training Model for BaseA *********** \\n\")\n",
        "dataXA, dataYA = test_train(final_baseA_cg,dist_BA,final_baseA,n_baseA,final_angle_baseA)\n",
        "nA_output = len(dataYA[0]);nA_input = len(dataXA[0])\n",
        "XA_train, XA_test, yA_train, yA_test = train_test_split(dataXA, dataYA, test_size=0.1, random_state=1)\n"
      ]
    },
    {
      "cell_type": "code",
      "execution_count": null,
      "id": "377c320d",
      "metadata": {
        "id": "377c320d"
      },
      "outputs": [],
      "source": [
        "import numpy as np\n",
        "import vg\n",
        "import math\n",
        "\n",
        "final_angle_baseT = []\n",
        "for i in (final_vecT):\n",
        "    angle = []\n",
        "    angle.append((vg.angle(i[0], i[1])))\n",
        "    angle.append((vg.angle(i[1], i[2])))\n",
        "    angle.append((vg.angle(i[2], i[3])))\n",
        "    angle.append((vg.angle(i[3], i[4])))\n",
        "    angle.append((vg.angle(i[4], i[5])))\n",
        "    angle.append((vg.angle(i[5], i[6])))\n",
        "    angle.append((vg.angle(i[6], i[7])))\n",
        "    angle.append((vg.angle(i[7], i[0])))\n",
        "\n",
        "\n",
        "    final_angle_baseT.append(angle)"
      ]
    },
    {
      "cell_type": "code",
      "execution_count": null,
      "id": "aaa7745f",
      "metadata": {
        "id": "aaa7745f"
      },
      "outputs": [],
      "source": [
        "final_angle_baseT = np.mean((pd.DataFrame(final_angle_baseT)))"
      ]
    },
    {
      "cell_type": "code",
      "execution_count": null,
      "id": "b514992f",
      "metadata": {
        "id": "b514992f",
        "outputId": "6a3274e5-77fe-4add-f093-41937327eea2"
      },
      "outputs": [
        {
          "name": "stdout",
          "output_type": "stream",
          "text": [
            "\n",
            "\n",
            " *********** Training Model for BaseT *********** \n",
            "\n"
          ]
        }
      ],
      "source": [
        "print(\"\\n\\n *********** Training Model for BaseT *********** \\n\")\n",
        "dataXT, dataYT = test_train(final_baseT_cg,dist_BT,final_baseT,n_baseT,final_angle_baseT)\n",
        "nT_output = len(dataYT[0]);nT_input = len(dataXT[0])\n",
        "XT_train, XT_test, yT_train, yT_test = train_test_split(dataXT, dataYT, test_size=0.1, random_state=1)\n"
      ]
    },
    {
      "cell_type": "code",
      "execution_count": null,
      "id": "c71345b3",
      "metadata": {
        "id": "c71345b3"
      },
      "outputs": [],
      "source": []
    },
    {
      "cell_type": "code",
      "execution_count": null,
      "id": "b3eaaab4",
      "metadata": {
        "id": "b3eaaab4"
      },
      "outputs": [],
      "source": [
        "import numpy as np\n",
        "import vg\n",
        "import math\n",
        "\n",
        "final_angle_baseG = []\n",
        "for i in (final_vecG):\n",
        "    angle = []\n",
        "    angle.append((vg.angle(i[0], i[1])))\n",
        "    angle.append((vg.angle(i[1], i[2])))\n",
        "    angle.append((vg.angle(i[2], i[3])))\n",
        "    angle.append((vg.angle(i[3], i[4])))\n",
        "    angle.append((vg.angle(i[4], i[5])))\n",
        "    angle.append((vg.angle(i[5], i[6])))\n",
        "    angle.append((vg.angle(i[6], i[7])))\n",
        "    angle.append((vg.angle(i[7], i[8])))\n",
        "    angle.append((vg.angle(i[8], i[9])))\n",
        "    angle.append((vg.angle(i[9], i[10])))\n",
        "    angle.append((vg.angle(i[10], i[0])))\n",
        "    final_angle_baseG.append(angle)"
      ]
    },
    {
      "cell_type": "code",
      "execution_count": null,
      "id": "29674caa",
      "metadata": {
        "id": "29674caa"
      },
      "outputs": [],
      "source": [
        "final_angle_baseG = np.mean((pd.DataFrame(final_angle_baseG)))"
      ]
    },
    {
      "cell_type": "code",
      "execution_count": null,
      "id": "fee8ae12",
      "metadata": {
        "id": "fee8ae12",
        "outputId": "d387cac4-3134-4030-a083-55ae40ac9c45"
      },
      "outputs": [
        {
          "name": "stdout",
          "output_type": "stream",
          "text": [
            "\n",
            "\n",
            " *********** Training Model for BaseG *********** \n",
            "\n"
          ]
        }
      ],
      "source": [
        "print(\"\\n\\n *********** Training Model for BaseG *********** \\n\")\n",
        "dataXG, dataYG = test_train(final_baseG_cg,dist_BG,final_baseG,n_baseG,final_angle_baseG)\n",
        "nG_output = len(dataYG[0]);nG_input = len(dataXG[0])\n",
        "XG_train, XG_test, yG_train, yG_test = train_test_split(dataXG, dataYG, test_size=0.1, random_state=1)\n"
      ]
    },
    {
      "cell_type": "code",
      "execution_count": null,
      "id": "086d3488",
      "metadata": {
        "id": "086d3488"
      },
      "outputs": [],
      "source": [
        "import numpy as np\n",
        "import vg\n",
        "import math\n",
        "\n",
        "final_angle_baseC = []\n",
        "for i in (final_vecC):\n",
        "    angle = []\n",
        "    angle.append((vg.angle(i[0], i[1])))\n",
        "    angle.append((vg.angle(i[1], i[2])))\n",
        "    angle.append((vg.angle(i[2], i[3])))\n",
        "    angle.append((vg.angle(i[3], i[4])))\n",
        "    angle.append((vg.angle(i[4], i[5])))\n",
        "    angle.append((vg.angle(i[5], i[6])))\n",
        "    angle.append((vg.angle(i[6], i[7])))\n",
        "    angle.append((vg.angle(i[7], i[0])))\n",
        "\n",
        "    final_angle_baseC.append(angle)"
      ]
    },
    {
      "cell_type": "code",
      "execution_count": null,
      "id": "8fdc280a",
      "metadata": {
        "id": "8fdc280a"
      },
      "outputs": [],
      "source": [
        "final_angle_baseC = np.mean((pd.DataFrame(final_angle_baseC)))"
      ]
    },
    {
      "cell_type": "code",
      "execution_count": null,
      "id": "4f8c7e30",
      "metadata": {
        "id": "4f8c7e30",
        "outputId": "66fd32d7-eff1-4cd5-8f76-c61d0a05c691"
      },
      "outputs": [
        {
          "name": "stdout",
          "output_type": "stream",
          "text": [
            "\n",
            "\n",
            " *********** Training Model for BaseC *********** \n",
            "\n"
          ]
        }
      ],
      "source": [
        "print(\"\\n\\n *********** Training Model for BaseC *********** \\n\")\n",
        "dataXC, dataYC = test_train(final_baseC_cg,dist_BC,final_baseC,n_baseC,final_angle_baseC)\n",
        "nC_output = len(dataYC[0]);nC_input = len(dataXC[0])\n",
        "XC_train, XC_test, yC_train, yC_test = train_test_split(dataXC, dataYC, test_size=0.1, random_state=1)\n"
      ]
    },
    {
      "cell_type": "markdown",
      "id": "dcc02ec5",
      "metadata": {
        "id": "dcc02ec5"
      },
      "source": [
        "## Phosphorous Model"
      ]
    },
    {
      "cell_type": "code",
      "execution_count": null,
      "id": "fee668ce",
      "metadata": {
        "id": "fee668ce",
        "outputId": "37baf31f-f4dc-4de7-e8c8-77d52d97d119"
      },
      "outputs": [
        {
          "name": "stderr",
          "output_type": "stream",
          "text": [
            "/opt/anaconda3/lib/python3.9/site-packages/keras/optimizers/optimizer_v2/adam.py:117: UserWarning: The `lr` argument is deprecated, use `learning_rate` instead.\n",
            "  super().__init__(name, **kwargs)\n"
          ]
        }
      ],
      "source": [
        "modelp = Sequential()\n",
        "modelp.add(Dense(1000, activation='relu', input_dim = np_input))\n",
        "modelp.add(Dense(np_output))\n",
        "opti=k.optimizers.Adam(lr=0.001)\n",
        "modelp.compile(loss=\"mse\",optimizer=opti,metrics=['accuracy'])\n",
        "history=modelp.fit(X_train_normalized,yp_train,batch_size=5,epochs=2000,shuffle=True,validation_split=0.2,verbose=0)\n",
        "ep=history.epoch\n",
        "hp=pd.DataFrame(history.history)\n",
        "\n"
      ]
    },
    {
      "cell_type": "code",
      "execution_count": null,
      "id": "1941d6b2",
      "metadata": {
        "id": "1941d6b2",
        "outputId": "bd3ce978-b25d-43c1-bd71-65bfc861f785"
      },
      "outputs": [
        {
          "data": {
            "text/plain": [
              "0       0.116883\n",
              "1       0.000000\n",
              "2       0.000000\n",
              "3       0.000000\n",
              "4       0.000000\n",
              "          ...   \n",
              "1995    0.493506\n",
              "1996    0.454545\n",
              "1997    0.454545\n",
              "1998    0.376623\n",
              "1999    0.467532\n",
              "Name: accuracy, Length: 2000, dtype: float64"
            ]
          },
          "execution_count": 69,
          "metadata": {},
          "output_type": "execute_result"
        }
      ],
      "source": [
        "hp['accuracy']"
      ]
    },
    {
      "cell_type": "markdown",
      "id": "8345178f",
      "metadata": {
        "id": "8345178f"
      },
      "source": [
        "## Sugar Model"
      ]
    },
    {
      "cell_type": "code",
      "execution_count": null,
      "id": "eb5fc52c",
      "metadata": {
        "id": "eb5fc52c"
      },
      "outputs": [],
      "source": [
        "models = Sequential()\n",
        "models.add(Dense(1000, activation='relu', input_dim = ns_input))\n",
        "models.add(Dense(ns_output))\n",
        "opti=k.optimizers.Adam(lr=0.001)\n",
        "models.compile(loss=\"mse\",optimizer=opti,metrics=['accuracy'])\n",
        "history=models.fit(Xs_train,ys_train,batch_size=5,epochs=2000,shuffle=True,validation_split=0.2,verbose=0)\n",
        "es=history.epoch\n",
        "hs=pd.DataFrame(history.history)\n",
        "\n",
        "#yp_pred = modelp.predict(Xp_test, verbose=0)\n",
        "#print(yp_test,yp_pred)\n",
        "\n",
        "\n"
      ]
    },
    {
      "cell_type": "code",
      "execution_count": null,
      "id": "66c142a6",
      "metadata": {
        "id": "66c142a6",
        "outputId": "d69c910e-5a6c-4be5-fdaa-bf435b7fa878"
      },
      "outputs": [
        {
          "data": {
            "text/plain": [
              "0       0.000000\n",
              "1       0.341772\n",
              "2       0.379747\n",
              "3       0.063291\n",
              "4       0.202532\n",
              "          ...   \n",
              "1995    0.417722\n",
              "1996    0.379747\n",
              "1997    0.417722\n",
              "1998    0.341772\n",
              "1999    0.341772\n",
              "Name: accuracy, Length: 2000, dtype: float64"
            ]
          },
          "execution_count": 33,
          "metadata": {},
          "output_type": "execute_result"
        }
      ],
      "source": [
        "hs[\"accuracy\"]"
      ]
    },
    {
      "cell_type": "markdown",
      "id": "8ebf9b23",
      "metadata": {
        "id": "8ebf9b23"
      },
      "source": [
        "##  BaseA training model"
      ]
    },
    {
      "cell_type": "code",
      "execution_count": null,
      "id": "e318ed5f",
      "metadata": {
        "id": "e318ed5f"
      },
      "outputs": [],
      "source": [
        "modelA = Sequential()\n",
        "modelA.add(Dense(1000, activation='relu', input_dim = nA_input))\n",
        "modelA.add(Dense(nA_output))\n",
        "opti=k.optimizers.Adam(lr=0.001)\n",
        "modelA.compile(loss=\"mse\",optimizer=opti,metrics=['accuracy'])\n",
        "history=modelA.fit(XA_train,yA_train,batch_size=5,epochs=2000,shuffle=True,validation_split=0.2,verbose=0)\n",
        "eA=history.epoch\n",
        "h=pd.DataFrame(history.history)\n",
        "\n",
        "#yp_pred = modelp.predict(Xp_test, verbose=0)\n",
        "#print(yp_test,yp_pred)\n",
        "\n",
        "\n"
      ]
    },
    {
      "cell_type": "code",
      "execution_count": null,
      "id": "253e6215",
      "metadata": {
        "id": "253e6215",
        "outputId": "ea2b8257-b3d8-4c21-c2e5-ace2ca95f9e1"
      },
      "outputs": [
        {
          "data": {
            "text/plain": [
              "0       0.0000\n",
              "1       0.0625\n",
              "2       0.1250\n",
              "3       0.1875\n",
              "4       0.1875\n",
              "         ...  \n",
              "1995    0.1250\n",
              "1996    0.1250\n",
              "1997    0.1250\n",
              "1998    0.1250\n",
              "1999    0.1875\n",
              "Name: accuracy, Length: 2000, dtype: float64"
            ]
          },
          "execution_count": 35,
          "metadata": {},
          "output_type": "execute_result"
        }
      ],
      "source": [
        "h[\"accuracy\"]"
      ]
    },
    {
      "cell_type": "markdown",
      "id": "077c4c51",
      "metadata": {
        "id": "077c4c51"
      },
      "source": [
        "## BaseT training model"
      ]
    },
    {
      "cell_type": "code",
      "execution_count": null,
      "id": "d9258d62",
      "metadata": {
        "id": "d9258d62"
      },
      "outputs": [],
      "source": [
        "modelT = Sequential()\n",
        "modelT.add(Dense(1000, activation='relu', input_dim = nT_input))\n",
        "modelT.add(Dense(nT_output))\n",
        "opti=k.optimizers.Adam(lr=0.001)\n",
        "modelT.compile(loss=\"mse\",optimizer=opti,metrics=['accuracy'])\n",
        "history=modelT.fit(XT_train,yT_train,batch_size=5,epochs=2000,shuffle=True,validation_split=0.2,verbose=0)\n",
        "eT=history.epoch\n",
        "ht=pd.DataFrame(history.history)\n",
        "\n",
        "#yp_pred = modelp.predict(Xp_test, verbose=0)\n",
        "#print(yp_test,yp_pred)\n",
        "\n",
        "\n"
      ]
    },
    {
      "cell_type": "code",
      "execution_count": null,
      "id": "d3fc4c52",
      "metadata": {
        "id": "d3fc4c52",
        "outputId": "96cb86c9-8e34-47ae-cad7-0198f41666e2"
      },
      "outputs": [
        {
          "data": {
            "text/plain": [
              "0       0.0000\n",
              "1       0.0000\n",
              "2       0.0000\n",
              "3       0.0000\n",
              "4       0.0000\n",
              "         ...  \n",
              "1995    0.0625\n",
              "1996    0.1875\n",
              "1997    0.0625\n",
              "1998    0.1875\n",
              "1999    0.0625\n",
              "Name: accuracy, Length: 2000, dtype: float64"
            ]
          },
          "execution_count": 37,
          "metadata": {},
          "output_type": "execute_result"
        }
      ],
      "source": [
        "ht[\"accuracy\"]"
      ]
    },
    {
      "cell_type": "markdown",
      "id": "211b5ac7",
      "metadata": {
        "id": "211b5ac7"
      },
      "source": [
        "## BaseG training model"
      ]
    },
    {
      "cell_type": "code",
      "execution_count": null,
      "id": "ffe70ecd",
      "metadata": {
        "id": "ffe70ecd"
      },
      "outputs": [],
      "source": [
        "modelG = Sequential()\n",
        "modelG.add(Dense(1000, activation='relu', input_dim = nG_input))\n",
        "modelG.add(Dense(nG_output))\n",
        "opti=k.optimizers.Adam(lr=0.001)\n",
        "modelG.compile(loss=\"mse\",optimizer=opti,metrics=['accuracy'])\n",
        "history=modelG.fit(XG_train,yG_train,batch_size=5,epochs=2000,shuffle=True,validation_split=0.2,verbose=0)\n",
        "eG=history.epoch\n",
        "hg=pd.DataFrame(history.history)\n",
        "\n",
        "#yp_pred = modelp.predict(Xp_test, verbose=0)\n",
        "#print(yp_test,yp_pred)\n",
        "\n",
        "\n"
      ]
    },
    {
      "cell_type": "code",
      "execution_count": null,
      "id": "0f02d197",
      "metadata": {
        "id": "0f02d197",
        "outputId": "b1b86c12-37e3-4a6c-c6d0-6c0206f72e81"
      },
      "outputs": [
        {
          "data": {
            "text/plain": [
              "0       0.000000\n",
              "1       0.000000\n",
              "2       0.045455\n",
              "3       0.045455\n",
              "4       0.045455\n",
              "          ...   \n",
              "1995    0.181818\n",
              "1996    0.227273\n",
              "1997    0.181818\n",
              "1998    0.227273\n",
              "1999    0.272727\n",
              "Name: accuracy, Length: 2000, dtype: float64"
            ]
          },
          "execution_count": 89,
          "metadata": {},
          "output_type": "execute_result"
        }
      ],
      "source": [
        "hg[\"accuracy\"]"
      ]
    },
    {
      "cell_type": "markdown",
      "id": "63d5723e",
      "metadata": {
        "id": "63d5723e"
      },
      "source": [
        "## BaseC training model"
      ]
    },
    {
      "cell_type": "code",
      "execution_count": null,
      "id": "05647bb1",
      "metadata": {
        "id": "05647bb1"
      },
      "outputs": [],
      "source": [
        "modelC = Sequential()\n",
        "modelC.add(Dense(1000, activation='relu', input_dim = nC_input))\n",
        "modelC.add(Dense(nC_output))\n",
        "opti=k.optimizers.Adam(lr=0.001)\n",
        "modelC.compile(loss=\"mse\",optimizer=opti,metrics=['accuracy'])\n",
        "history=modelC.fit(XC_train,yC_train,batch_size=5,epochs=2000,shuffle=True,validation_split=0.2,verbose=0)\n",
        "eC=history.epoch\n",
        "hc=pd.DataFrame(history.history)\n",
        "\n",
        "#yp_pred = modelp.predict(Xp_test, verbose=0)\n",
        "#print(yp_test,yp_pred)\n",
        "\n",
        "\n"
      ]
    },
    {
      "cell_type": "code",
      "execution_count": null,
      "id": "1e306fa2",
      "metadata": {
        "id": "1e306fa2",
        "outputId": "93437628-5610-4037-8fd9-432acfd0009e"
      },
      "outputs": [
        {
          "data": {
            "text/plain": [
              "0       0.000000\n",
              "1       0.045455\n",
              "2       0.090909\n",
              "3       0.363636\n",
              "4       0.363636\n",
              "          ...   \n",
              "1995    0.500000\n",
              "1996    0.454545\n",
              "1997    0.500000\n",
              "1998    0.454545\n",
              "1999    0.636364\n",
              "Name: accuracy, Length: 2000, dtype: float64"
            ]
          },
          "execution_count": 91,
          "metadata": {},
          "output_type": "execute_result"
        }
      ],
      "source": [
        "hc[\"accuracy\"]"
      ]
    },
    {
      "cell_type": "code",
      "execution_count": null,
      "id": "b09523f2",
      "metadata": {
        "id": "b09523f2"
      },
      "outputs": [],
      "source": []
    },
    {
      "cell_type": "code",
      "execution_count": null,
      "id": "6505e8ca",
      "metadata": {
        "id": "6505e8ca"
      },
      "outputs": [],
      "source": [
        "def data_input(cg_input,n_res,dist_res,angle):\n",
        "    tmp=[]\n",
        "    for k in range(n_res):\n",
        "        tmp.append(float(cg_input[6]));tmp.append(dist_res[k])\n",
        "        tmp.append(float(cg_input[7]));tmp.append(dist_res[k])\n",
        "        tmp.append(float(cg_input[8]));tmp.append(dist_res[k])\n",
        "        tmp.append(angle[k])\n",
        "    return tmp\n",
        "\n",
        "def phos_all_atom(p_input,p_output,n_res,atno,f):\n",
        "  atmnm=[\"P\",\"O1P\",\"O2P\",\"O5'\"]\n",
        "  for i in range(n_res):\n",
        "    atno+=1\n",
        "    term0 = p_input[0].ljust(6)#atom#6s\n",
        "    term1 = str(atno).rjust(5)#aomnum#5d\n",
        "    term2 = atmnm[i].rjust(4)#atomname$#4s\n",
        "    term3 = p_input[3].ljust(3)#resname#1s\n",
        "    term4 = p_input[4].rjust(1) #Astring\n",
        "    term5 = p_input[5].rjust(4) #resnum\n",
        "    term6 = str('%8.3f' % (p_output[3*i])).rjust(8) #x\n",
        "    term7 = str('%8.3f' % (p_output[3*i+1])).rjust(8) #y\n",
        "    term8 = str('%8.3f' % (p_output[3*i+2])).rjust(8) #z\n",
        "    f.write(\"%s%s %s %s %s%s    %s%s%s\\n\"% (term0,term1,term2,term3,term4,term5,term6,term7,term8))\n",
        "\n",
        "def sugar_all_atom(s_input,s_output,n_res,atno,f):\n",
        "  atmnm=[\"C5'\",\"C4'\",\"O4'\",\"C1'\",\"C3'\",\"C2'\"]\n",
        "  for i in range(n_res):\n",
        "    atno+=1\n",
        "    term0 = s_input[0].ljust(6)#atom#6s\n",
        "    term1 = str(atno).rjust(5)#aomnum#5d\n",
        "    term2 = atmnm[i].rjust(4)#atomname$#4s\n",
        "    term3 = s_input[3].ljust(3)#resname#1s\n",
        "    term4 = s_input[4].rjust(1) #Astring\n",
        "    term5 = s_input[5].rjust(4) #resnum\n",
        "    term6 = str('%8.3f' % (s_output[3*i])).rjust(8) #x\n",
        "    term7 = str('%8.3f' % (s_output[3*i+1])).rjust(8) #y\n",
        "    term8 = str('%8.3f' % (s_output[3*i+2])).rjust(8) #z\n",
        "    f.write(\"%s%s %s %s %s%s    %s%s%s\\n\"% (term0,term1,term2,term3,term4,term5,term6,term7,term8))\n",
        "\n",
        "def base_all_atom(b_input,b_output,n_res,atno,f):\n",
        "  if(b_input[3]==\"DA\"):\n",
        "    atmnm=[\"N9\",\"C8\",\"N7\",\"C5\",\"C6\",\"N6\",\"N1\",\"C2\",\"N3\",\"C4\"]\n",
        "    for i in range(n_res):\n",
        "        atno+=1\n",
        "        term0 = b_input[0].ljust(6)#atom#6s\n",
        "        term1 = str(atno).rjust(5)#aomnum#5d\n",
        "        term2 = atmnm[i].rjust(4)#atomname$#4s\n",
        "        term3 = b_input[3].ljust(3)#resname#1s\n",
        "        term4 = b_input[4].rjust(1) #Astring\n",
        "        term5 = b_input[5].rjust(4) #resnum\n",
        "        term6 = str('%8.3f' % (b_output[3*i])).rjust(8) #x\n",
        "        term7 = str('%8.3f' % (b_output[3*i+1])).rjust(8) #y\n",
        "        term8 = str('%8.3f' % (b_output[3*i+2])).rjust(8) #z\n",
        "        f.write(\"%s%s %s %s %s%s    %s%s%s\\n\"% (term0,term1,term2,term3,term4,term5,term6,term7,term8))\n",
        "  elif(b_input[3]==\"DT\"):\n",
        "    atmnm=[\"N1\",\"C6\",\"C5\",\"C4\",\"O4\",\"N3\",\"C2\",\"O2\"]\n",
        "    for i in range(n_res):\n",
        "        atno+=1\n",
        "        term0 = b_input[0].ljust(6)#atom#6s\n",
        "        term1 = str(atno).rjust(5)#aomnum#5d\n",
        "        term2 = atmnm[i].rjust(4)#atomname$#4s\n",
        "        term3 = b_input[3].ljust(3)#resname#1s\n",
        "        term4 = b_input[4].rjust(1) #Astring\n",
        "        term5 = b_input[5].rjust(4) #resnum\n",
        "        term6 = str('%8.3f' % (b_output[3*i])).rjust(8) #x\n",
        "        term7 = str('%8.3f' % (b_output[3*i+1])).rjust(8) #y\n",
        "        term8 = str('%8.3f' % (b_output[3*i+2])).rjust(8) #z\n",
        "        f.write(\"%s%s %s %s %s%s    %s%s%s\\n\"% (term0,term1,term2,term3,term4,term5,term6,term7,term8))\n",
        "  elif(b_input[3]==\"DG\"):\n",
        "    atmnm=[\"N9\",\"C8\",\"N7\",\"C5\",\"C6\",\"O6\",\"N1\",\"C2\",\"N2\",\"N3\",\"C4\"]\n",
        "    for i in range(n_res):\n",
        "        atno+=1\n",
        "        term0 = b_input[0].ljust(6)#atom#6s\n",
        "        term1 = str(atno).rjust(5)#aomnum#5d\n",
        "        term2 = atmnm[i].rjust(4)#atomname$#4s\n",
        "        term3 = b_input[3].ljust(3)#resname#1s\n",
        "        term4 = b_input[4].rjust(1) #Astring\n",
        "        term5 = b_input[5].rjust(4) #resnum\n",
        "        term6 = str('%8.3f' % (b_output[3*i])).rjust(8) #x\n",
        "        term7 = str('%8.3f' % (b_output[3*i+1])).rjust(8) #y\n",
        "        term8 = str('%8.3f' % (b_output[3*i+2])).rjust(8) #z\n",
        "        f.write(\"%s%s %s %s %s%s    %s%s%s\\n\"% (term0,term1,term2,term3,term4,term5,term6,term7,term8))\n",
        "  elif(b_input[3]==\"DC\"):\n",
        "    atmnm=[\"N1\",\"C6\",\"C5\",\"C4\",\"N4\",\"N3\",\"C2\",\"O2\"]\n",
        "    for i in range(n_res):\n",
        "        atno+=1\n",
        "        term0 = b_input[0].ljust(6)#atom#6s\n",
        "        term1 = str(atno).rjust(5)#aomnum#5d\n",
        "        term2 = atmnm[i].rjust(4)#atomname$#4s\n",
        "        term3 = b_input[3].ljust(3)#resname#1s\n",
        "        term4 = b_input[4].rjust(1) #Astring\n",
        "        term5 = b_input[5].rjust(4) #resnum\n",
        "        term6 = str('%8.3f' % (b_output[3*i])).rjust(8) #x\n",
        "        term7 = str('%8.3f' % (b_output[3*i+1])).rjust(8) #y\n",
        "        term8 = str('%8.3f' % (b_output[3*i+2])).rjust(8) #z\n",
        "        f.write(\"%s%s %s %s %s%s    %s%s%s\\n\"% (term0,term1,term2,term3,term4,term5,term6,term7,term8))\n",
        "\n",
        "\n",
        "\n",
        "\n"
      ]
    },
    {
      "cell_type": "code",
      "execution_count": null,
      "id": "97977f38",
      "metadata": {
        "collapsed": true,
        "id": "97977f38",
        "outputId": "4f9febc4-9fd0-4988-f719-70c82ad5dba8"
      },
      "outputs": [
        {
          "name": "stdout",
          "output_type": "stream",
          "text": [
            "1/1 [==============================] - 0s 66ms/step\n",
            "1/1 [==============================] - 0s 46ms/step\n",
            "1/1 [==============================] - 0s 44ms/step\n",
            "1/1 [==============================] - 0s 42ms/step\n",
            "1/1 [==============================] - 0s 50ms/step\n",
            "1/1 [==============================] - 0s 42ms/step\n",
            "1/1 [==============================] - 0s 43ms/step\n",
            "1/1 [==============================] - 0s 43ms/step\n",
            "1/1 [==============================] - 0s 47ms/step\n",
            "1/1 [==============================] - 0s 46ms/step\n",
            "1/1 [==============================] - 0s 42ms/step\n",
            "1/1 [==============================] - 0s 45ms/step\n",
            "1/1 [==============================] - 0s 42ms/step\n",
            "1/1 [==============================] - 0s 41ms/step\n",
            "1/1 [==============================] - 0s 42ms/step\n",
            "1/1 [==============================] - 0s 41ms/step\n",
            "1/1 [==============================] - 0s 41ms/step\n",
            "1/1 [==============================] - 0s 42ms/step\n",
            "1/1 [==============================] - 0s 41ms/step\n",
            "1/1 [==============================] - 0s 43ms/step\n",
            "1/1 [==============================] - 0s 40ms/step\n",
            "1/1 [==============================] - 0s 49ms/step\n",
            "1/1 [==============================] - 0s 43ms/step\n",
            "1/1 [==============================] - 0s 49ms/step\n",
            "1/1 [==============================] - 0s 63ms/step\n",
            "1/1 [==============================] - 0s 44ms/step\n",
            "1/1 [==============================] - 0s 47ms/step\n",
            "1/1 [==============================] - 0s 53ms/step\n",
            "1/1 [==============================] - 0s 50ms/step\n",
            "1/1 [==============================] - 0s 43ms/step\n",
            "1/1 [==============================] - 0s 43ms/step\n",
            "1/1 [==============================] - 0s 45ms/step\n",
            "1/1 [==============================] - 0s 48ms/step\n",
            "1/1 [==============================] - 0s 53ms/step\n",
            "1/1 [==============================] - 0s 59ms/step\n",
            "1/1 [==============================] - 0s 46ms/step\n",
            "1/1 [==============================] - 0s 43ms/step\n",
            "1/1 [==============================] - 0s 45ms/step\n",
            "1/1 [==============================] - 0s 44ms/step\n",
            "1/1 [==============================] - 0s 45ms/step\n",
            "1/1 [==============================] - 0s 47ms/step\n",
            "1/1 [==============================] - 0s 49ms/step\n",
            "1/1 [==============================] - 0s 42ms/step\n",
            "1/1 [==============================] - 0s 40ms/step\n",
            "1/1 [==============================] - 0s 40ms/step\n",
            "1/1 [==============================] - 0s 40ms/step\n",
            "1/1 [==============================] - 0s 42ms/step\n",
            "1/1 [==============================] - 0s 41ms/step\n",
            "1/1 [==============================] - 0s 45ms/step\n",
            "1/1 [==============================] - 0s 42ms/step\n",
            "1/1 [==============================] - 0s 43ms/step\n",
            "1/1 [==============================] - 0s 51ms/step\n",
            "1/1 [==============================] - 0s 45ms/step\n",
            "1/1 [==============================] - 0s 46ms/step\n",
            "1/1 [==============================] - 0s 44ms/step\n",
            "1/1 [==============================] - 0s 43ms/step\n",
            "1/1 [==============================] - 0s 43ms/step\n",
            "1/1 [==============================] - 0s 41ms/step\n",
            "1/1 [==============================] - 0s 42ms/step\n",
            "1/1 [==============================] - 0s 42ms/step\n",
            "1/1 [==============================] - 0s 42ms/step\n",
            "1/1 [==============================] - 0s 53ms/step\n",
            "1/1 [==============================] - 0s 45ms/step\n",
            "1/1 [==============================] - 0s 41ms/step\n",
            "1/1 [==============================] - 0s 41ms/step\n",
            "1/1 [==============================] - 0s 44ms/step\n",
            "1/1 [==============================] - 0s 43ms/step\n",
            "1/1 [==============================] - 0s 42ms/step\n",
            "1/1 [==============================] - 0s 43ms/step\n",
            "1/1 [==============================] - 0s 44ms/step\n",
            "1/1 [==============================] - 0s 42ms/step\n",
            "1/1 [==============================] - 0s 56ms/step\n",
            "1/1 [==============================] - 0s 56ms/step\n",
            "1/1 [==============================] - 0s 48ms/step\n",
            "1/1 [==============================] - 0s 45ms/step\n",
            "1/1 [==============================] - 0s 52ms/step\n",
            "1/1 [==============================] - 0s 42ms/step\n",
            "1/1 [==============================] - 0s 43ms/step\n",
            "1/1 [==============================] - 0s 44ms/step\n",
            "1/1 [==============================] - 0s 64ms/step\n",
            "1/1 [==============================] - 0s 52ms/step\n",
            "1/1 [==============================] - 0s 60ms/step\n",
            "1/1 [==============================] - 0s 48ms/step\n",
            "1/1 [==============================] - 0s 44ms/step\n",
            "1/1 [==============================] - 0s 47ms/step\n",
            "1/1 [==============================] - 0s 44ms/step\n",
            "1/1 [==============================] - 0s 44ms/step\n",
            "1/1 [==============================] - 0s 70ms/step\n",
            "1/1 [==============================] - 0s 58ms/step\n",
            "1/1 [==============================] - 0s 46ms/step\n",
            "1/1 [==============================] - 0s 49ms/step\n",
            "1/1 [==============================] - 0s 43ms/step\n",
            "1/1 [==============================] - 0s 41ms/step\n",
            "1/1 [==============================] - 0s 45ms/step\n",
            "1/1 [==============================] - 0s 47ms/step\n",
            "1/1 [==============================] - 0s 68ms/step\n",
            "1/1 [==============================] - 0s 56ms/step\n",
            "1/1 [==============================] - 0s 46ms/step\n",
            "1/1 [==============================] - 0s 42ms/step\n",
            "1/1 [==============================] - 0s 44ms/step\n",
            "1/1 [==============================] - 0s 61ms/step\n",
            "1/1 [==============================] - 0s 61ms/step\n",
            "1/1 [==============================] - 0s 46ms/step\n",
            "1/1 [==============================] - 0s 49ms/step\n",
            "1/1 [==============================] - 0s 44ms/step\n",
            "1/1 [==============================] - 0s 43ms/step\n",
            "1/1 [==============================] - 0s 57ms/step\n",
            "1/1 [==============================] - 0s 44ms/step\n",
            "1/1 [==============================] - 0s 42ms/step\n",
            "1/1 [==============================] - 0s 45ms/step\n",
            "1/1 [==============================] - 0s 43ms/step\n",
            "1/1 [==============================] - 0s 44ms/step\n",
            "1/1 [==============================] - 0s 42ms/step\n",
            "1/1 [==============================] - 0s 42ms/step\n",
            "1/1 [==============================] - 0s 45ms/step\n",
            "1/1 [==============================] - 0s 55ms/step\n",
            "1/1 [==============================] - 0s 51ms/step\n",
            "1/1 [==============================] - 0s 50ms/step\n",
            "1/1 [==============================] - 0s 44ms/step\n",
            "1/1 [==============================] - 0s 50ms/step\n",
            "1/1 [==============================] - 0s 46ms/step\n",
            "1/1 [==============================] - 0s 44ms/step\n",
            "1/1 [==============================] - 0s 50ms/step\n",
            "1/1 [==============================] - 0s 54ms/step\n",
            "1/1 [==============================] - 0s 42ms/step\n",
            "1/1 [==============================] - 0s 46ms/step\n",
            "1/1 [==============================] - 0s 44ms/step\n",
            "1/1 [==============================] - 0s 46ms/step\n",
            "1/1 [==============================] - 0s 43ms/step\n",
            "1/1 [==============================] - 0s 46ms/step\n",
            "1/1 [==============================] - 0s 43ms/step\n",
            "1/1 [==============================] - 0s 44ms/step\n",
            "1/1 [==============================] - 0s 42ms/step\n",
            "1/1 [==============================] - 0s 44ms/step\n",
            "1/1 [==============================] - 0s 43ms/step\n",
            "1/1 [==============================] - 0s 56ms/step\n",
            "1/1 [==============================] - 0s 50ms/step\n",
            "1/1 [==============================] - 0s 55ms/step\n",
            "1/1 [==============================] - 0s 47ms/step\n",
            "1/1 [==============================] - 0s 69ms/step\n",
            "1/1 [==============================] - 0s 45ms/step\n",
            "1/1 [==============================] - 0s 57ms/step\n",
            "1/1 [==============================] - 0s 54ms/step\n",
            "1/1 [==============================] - 0s 46ms/step\n",
            "1/1 [==============================] - 0s 58ms/step\n",
            "1/1 [==============================] - 0s 49ms/step\n",
            "1/1 [==============================] - 0s 43ms/step\n",
            "1/1 [==============================] - 0s 41ms/step\n",
            "1/1 [==============================] - 0s 44ms/step\n",
            "1/1 [==============================] - 0s 45ms/step\n",
            "1/1 [==============================] - 0s 57ms/step\n",
            "1/1 [==============================] - 0s 119ms/step\n",
            "1/1 [==============================] - 0s 49ms/step\n",
            "1/1 [==============================] - 0s 41ms/step\n",
            "1/1 [==============================] - 0s 42ms/step\n",
            "1/1 [==============================] - 0s 43ms/step\n",
            "1/1 [==============================] - 0s 40ms/step\n",
            "1/1 [==============================] - 0s 42ms/step\n",
            "1/1 [==============================] - 0s 59ms/step\n",
            "1/1 [==============================] - 0s 107ms/step\n",
            "1/1 [==============================] - 0s 47ms/step\n",
            "1/1 [==============================] - 0s 61ms/step\n",
            "1/1 [==============================] - 0s 60ms/step\n",
            "1/1 [==============================] - 0s 43ms/step\n",
            "1/1 [==============================] - 0s 43ms/step\n",
            "1/1 [==============================] - 0s 43ms/step\n",
            "1/1 [==============================] - 0s 42ms/step\n",
            "1/1 [==============================] - 0s 58ms/step\n",
            "1/1 [==============================] - 0s 48ms/step\n",
            "1/1 [==============================] - 0s 49ms/step\n",
            "1/1 [==============================] - 0s 45ms/step\n",
            "1/1 [==============================] - 0s 46ms/step\n",
            "1/1 [==============================] - 0s 46ms/step\n",
            "1/1 [==============================] - 0s 49ms/step\n",
            "1/1 [==============================] - 0s 43ms/step\n",
            "1/1 [==============================] - 0s 45ms/step\n",
            "1/1 [==============================] - 0s 46ms/step\n",
            "1/1 [==============================] - 0s 48ms/step\n",
            "1/1 [==============================] - 0s 46ms/step\n",
            "1/1 [==============================] - 0s 42ms/step\n",
            "1/1 [==============================] - 0s 43ms/step\n",
            "1/1 [==============================] - 0s 41ms/step\n",
            "1/1 [==============================] - 0s 50ms/step\n",
            "1/1 [==============================] - 0s 96ms/step\n",
            "1/1 [==============================] - 0s 98ms/step\n",
            "1/1 [==============================] - 0s 42ms/step\n",
            "1/1 [==============================] - 0s 51ms/step\n",
            "1/1 [==============================] - 0s 45ms/step\n",
            "1/1 [==============================] - 0s 45ms/step\n",
            "1/1 [==============================] - 0s 43ms/step\n",
            "1/1 [==============================] - 0s 45ms/step\n",
            "1/1 [==============================] - 0s 43ms/step\n",
            "1/1 [==============================] - 0s 42ms/step\n",
            "1/1 [==============================] - 0s 65ms/step\n",
            "1/1 [==============================] - 0s 124ms/step\n",
            "1/1 [==============================] - 0s 43ms/step\n",
            "1/1 [==============================] - 0s 50ms/step\n",
            "1/1 [==============================] - 0s 53ms/step\n",
            "1/1 [==============================] - 0s 55ms/step\n",
            "1/1 [==============================] - 0s 48ms/step\n",
            "1/1 [==============================] - 0s 52ms/step\n",
            "1/1 [==============================] - 0s 56ms/step\n",
            "1/1 [==============================] - 0s 54ms/step\n",
            "1/1 [==============================] - 0s 50ms/step\n",
            "1/1 [==============================] - 0s 56ms/step\n",
            "1/1 [==============================] - 0s 44ms/step\n",
            "1/1 [==============================] - 0s 47ms/step\n",
            "1/1 [==============================] - 0s 44ms/step\n",
            "1/1 [==============================] - 0s 42ms/step\n",
            "1/1 [==============================] - 0s 49ms/step\n",
            "1/1 [==============================] - 0s 50ms/step\n",
            "1/1 [==============================] - 0s 54ms/step\n",
            "1/1 [==============================] - 0s 41ms/step\n",
            "1/1 [==============================] - 0s 65ms/step\n",
            "1/1 [==============================] - 0s 42ms/step\n",
            "1/1 [==============================] - 0s 53ms/step\n",
            "1/1 [==============================] - 0s 54ms/step\n",
            "1/1 [==============================] - 0s 48ms/step\n",
            "1/1 [==============================] - 0s 46ms/step\n",
            "1/1 [==============================] - 0s 44ms/step\n",
            "1/1 [==============================] - 0s 53ms/step\n",
            "1/1 [==============================] - 0s 48ms/step\n",
            "1/1 [==============================] - 0s 50ms/step\n",
            "1/1 [==============================] - 0s 53ms/step\n",
            "1/1 [==============================] - 0s 59ms/step\n",
            "1/1 [==============================] - 0s 52ms/step\n",
            "1/1 [==============================] - 0s 43ms/step\n",
            "1/1 [==============================] - 0s 48ms/step\n",
            "1/1 [==============================] - 0s 65ms/step\n",
            "1/1 [==============================] - 0s 66ms/step\n",
            "1/1 [==============================] - 0s 53ms/step\n",
            "1/1 [==============================] - 0s 73ms/step\n",
            "1/1 [==============================] - 0s 82ms/step\n",
            "1/1 [==============================] - 0s 58ms/step\n",
            "1/1 [==============================] - 0s 43ms/step\n",
            "1/1 [==============================] - 0s 48ms/step\n",
            "1/1 [==============================] - 0s 48ms/step\n",
            "1/1 [==============================] - 0s 46ms/step\n",
            "1/1 [==============================] - 0s 80ms/step\n",
            "1/1 [==============================] - 0s 55ms/step\n",
            "1/1 [==============================] - 0s 53ms/step\n",
            "1/1 [==============================] - 0s 53ms/step\n",
            "1/1 [==============================] - 0s 89ms/step\n",
            "1/1 [==============================] - 0s 45ms/step\n",
            "1/1 [==============================] - 0s 44ms/step\n",
            "1/1 [==============================] - 0s 42ms/step\n",
            "1/1 [==============================] - 0s 40ms/step\n",
            "1/1 [==============================] - 0s 44ms/step\n",
            "1/1 [==============================] - 0s 43ms/step\n",
            "1/1 [==============================] - 0s 60ms/step\n",
            "1/1 [==============================] - 0s 84ms/step\n",
            "1/1 [==============================] - 0s 57ms/step\n",
            "1/1 [==============================] - 0s 87ms/step\n",
            "1/1 [==============================] - 0s 66ms/step\n",
            "1/1 [==============================] - 0s 43ms/step\n",
            "1/1 [==============================] - 0s 42ms/step\n",
            "1/1 [==============================] - 0s 42ms/step\n",
            "1/1 [==============================] - 0s 41ms/step\n",
            "1/1 [==============================] - 0s 96ms/step\n",
            "1/1 [==============================] - 0s 69ms/step\n",
            "1/1 [==============================] - 0s 41ms/step\n",
            "1/1 [==============================] - 0s 42ms/step\n",
            "1/1 [==============================] - 0s 44ms/step\n",
            "1/1 [==============================] - 0s 42ms/step\n",
            "1/1 [==============================] - 0s 64ms/step\n",
            "1/1 [==============================] - 0s 59ms/step\n",
            "1/1 [==============================] - 0s 45ms/step\n",
            "1/1 [==============================] - 0s 40ms/step\n",
            "1/1 [==============================] - 0s 46ms/step\n",
            "1/1 [==============================] - 0s 150ms/step\n",
            "1/1 [==============================] - 0s 119ms/step\n",
            "1/1 [==============================] - 0s 90ms/step\n",
            "1/1 [==============================] - 0s 71ms/step\n",
            "1/1 [==============================] - 0s 40ms/step\n",
            "1/1 [==============================] - 0s 49ms/step\n",
            "1/1 [==============================] - 0s 43ms/step\n",
            "1/1 [==============================] - 0s 42ms/step\n",
            "1/1 [==============================] - 0s 53ms/step\n",
            "1/1 [==============================] - 0s 75ms/step\n",
            "1/1 [==============================] - 0s 48ms/step\n",
            "1/1 [==============================] - 0s 53ms/step\n",
            "1/1 [==============================] - 0s 48ms/step\n",
            "1/1 [==============================] - 0s 47ms/step\n",
            "1/1 [==============================] - 0s 48ms/step\n",
            "1/1 [==============================] - 0s 57ms/step\n",
            "1/1 [==============================] - 0s 45ms/step\n",
            "1/1 [==============================] - 0s 52ms/step\n",
            "1/1 [==============================] - 0s 45ms/step\n",
            "1/1 [==============================] - 0s 45ms/step\n",
            "1/1 [==============================] - 0s 48ms/step\n",
            "1/1 [==============================] - 0s 46ms/step\n",
            "1/1 [==============================] - 0s 54ms/step\n",
            "1/1 [==============================] - 0s 45ms/step\n",
            "1/1 [==============================] - 0s 44ms/step\n",
            "1/1 [==============================] - 0s 58ms/step\n",
            "1/1 [==============================] - 0s 53ms/step\n",
            "1/1 [==============================] - 0s 52ms/step\n",
            "1/1 [==============================] - 0s 53ms/step\n",
            "1/1 [==============================] - 0s 44ms/step\n",
            "1/1 [==============================] - 0s 43ms/step\n",
            "1/1 [==============================] - 0s 47ms/step\n",
            "1/1 [==============================] - 0s 54ms/step\n",
            "1/1 [==============================] - 0s 54ms/step\n",
            "1/1 [==============================] - 0s 54ms/step\n",
            "1/1 [==============================] - 0s 50ms/step\n",
            "1/1 [==============================] - 0s 42ms/step\n",
            "1/1 [==============================] - 0s 43ms/step\n",
            "1/1 [==============================] - 0s 45ms/step\n",
            "1/1 [==============================] - 0s 40ms/step\n",
            "1/1 [==============================] - 0s 41ms/step\n",
            "1/1 [==============================] - 0s 50ms/step\n",
            "1/1 [==============================] - 0s 56ms/step\n",
            "1/1 [==============================] - 0s 51ms/step\n",
            "1/1 [==============================] - 0s 47ms/step\n"
          ]
        },
        {
          "name": "stdout",
          "output_type": "stream",
          "text": [
            "1/1 [==============================] - 0s 49ms/step\n",
            "1/1 [==============================] - 0s 45ms/step\n",
            "1/1 [==============================] - 0s 46ms/step\n",
            "1/1 [==============================] - 0s 48ms/step\n",
            "1/1 [==============================] - 0s 47ms/step\n",
            "1/1 [==============================] - 0s 51ms/step\n",
            "1/1 [==============================] - 0s 53ms/step\n",
            "1/1 [==============================] - 0s 58ms/step\n",
            "1/1 [==============================] - 0s 53ms/step\n",
            "1/1 [==============================] - 0s 50ms/step\n",
            "1/1 [==============================] - 0s 52ms/step\n",
            "1/1 [==============================] - 0s 52ms/step\n",
            "1/1 [==============================] - 0s 44ms/step\n",
            "1/1 [==============================] - 0s 47ms/step\n"
          ]
        }
      ],
      "source": [
        "data_cg=[]\n",
        "with open(\"coarse_grain.pdb\") as file:\n",
        "    for line in file:\n",
        "        if (line[0:4] == \"ATOM\"):\n",
        "            data_cg.append(line.split())\n",
        "\n",
        "\n",
        "f1=open(\"All-Atom_anglemodel_n.pdb\",'w')\n",
        "atom_no=0;coun=0\n",
        "for i in range(len(data_cg)):\n",
        "    if(data_cg[i][2]=='P'):\n",
        "        cg_input=data_cg[i]\n",
        "        model_input=[data_input(cg_input,n_phos,dist_p,final_angle_p)]\n",
        "        model_output=modelp.predict(model_input)[0]\n",
        "        phos_all_atom(cg_input,model_output,n_phos,atom_no,f1)\n",
        "        atom_no+=n_phos\n",
        "    if(data_cg[i][2]=='S'):\n",
        "        #print(data_cg[i])\n",
        "        coun+=1\n",
        "        cg_input=data_cg[i]\n",
        "        model_input=[data_input(cg_input,n_sugar,dist_S,final_angle_s)]\n",
        "        model_output=models.predict(model_input)[0]\n",
        "        sugar_all_atom(cg_input,model_output,n_sugar,atom_no,f1)\n",
        "        atom_no+=n_sugar\n",
        "    if(data_cg[i][2]=='B'):\n",
        "        cg_input=data_cg[i]\n",
        "        if(cg_input[3]==\"DA\"):\n",
        "            model_input=[data_input(cg_input,n_baseA,dist_BA,final_angle_baseA)]\n",
        "            model_output=modelA.predict(model_input)[0]\n",
        "            base_all_atom(cg_input,model_output,n_baseA,atom_no,f1)\n",
        "            atom_no+=n_baseA\n",
        "        if(cg_input[3]==\"DT\"):\n",
        "            model_input=[data_input(cg_input,n_baseT,dist_BT,final_angle_baseT)]\n",
        "            model_output=modelT.predict(model_input)[0]\n",
        "            base_all_atom(cg_input,model_output,n_baseT,atom_no,f1)\n",
        "            atom_no+=n_baseT\n",
        "        if(cg_input[3]==\"DG\"):\n",
        "            model_input=[data_input(cg_input,n_baseG,dist_BG,final_angle_baseG)]\n",
        "            model_output=modelG.predict(model_input)[0]\n",
        "            base_all_atom(cg_input,model_output,n_baseG,atom_no,f1)\n",
        "            atom_no+=n_baseG\n",
        "        if(cg_input[3]==\"DC\"):\n",
        "            model_input=[data_input(cg_input,n_baseC,dist_BC,final_angle_baseC)]\n",
        "            model_output=modelC.predict(model_input)[0]\n",
        "            base_all_atom(cg_input,model_output,n_baseC,atom_no,f1)\n",
        "            atom_no+=n_baseC"
      ]
    },
    {
      "cell_type": "code",
      "execution_count": null,
      "id": "bb189399",
      "metadata": {
        "id": "bb189399",
        "outputId": "61bf6a72-a3e9-470c-8674-09669d864932"
      },
      "outputs": [
        {
          "data": {
            "text/plain": [
              "array([[ 37.17      ,   0.334947  ,  38.08      ,   0.334947  ,\n",
              "        124.13      ,   0.334947  ,  87.78503187,  37.17      ,\n",
              "          1.44695243,  38.08      ,   1.44695243, 124.13      ,\n",
              "          1.44695243, 122.58655891,  37.17      ,   1.45175314,\n",
              "         38.08      ,   1.45175314, 124.13      ,   1.45175314,\n",
              "        117.96015479,  37.17      ,   1.4553798 ,  38.08      ,\n",
              "          1.4553798 , 124.13      ,   1.4553798 , 107.37685042]])"
            ]
          },
          "execution_count": 109,
          "metadata": {},
          "output_type": "execute_result"
        }
      ],
      "source": [
        "one_p[0]"
      ]
    },
    {
      "cell_type": "code",
      "execution_count": null,
      "id": "f3305d27",
      "metadata": {
        "id": "f3305d27",
        "outputId": "338941ff-4b5c-489d-a9b5-5a1492d94b45"
      },
      "outputs": [
        {
          "data": {
            "text/plain": [
              "array([[ 38.428     ,   0.334947  ,  27.383     ,   0.334947  ,\n",
              "         47.332     ,   0.334947  ,  87.78503187,  38.428     ,\n",
              "          1.44695243,  27.383     ,   1.44695243,  47.332     ,\n",
              "          1.44695243, 122.58655891,  38.428     ,   1.45175314,\n",
              "         27.383     ,   1.45175314,  47.332     ,   1.45175314,\n",
              "        117.96015479,  38.428     ,   1.4553798 ,  27.383     ,\n",
              "          1.4553798 ,  47.332     ,   1.4553798 , 107.37685042],\n",
              "       [ 38.442     ,   0.334947  ,  27.4       ,   0.334947  ,\n",
              "         81.565     ,   0.334947  ,  87.78503187,  38.442     ,\n",
              "          1.44695243,  27.4       ,   1.44695243,  81.565     ,\n",
              "          1.44695243, 122.58655891,  38.442     ,   1.45175314,\n",
              "         27.4       ,   1.45175314,  81.565     ,   1.45175314,\n",
              "        117.96015479,  38.442     ,   1.4553798 ,  27.4       ,\n",
              "          1.4553798 ,  81.565     ,   1.4553798 , 107.37685042],\n",
              "       [ 30.105     ,   0.334947  ,  20.36      ,   0.334947  ,\n",
              "         74.675     ,   0.334947  ,  87.78503187,  30.105     ,\n",
              "          1.44695243,  20.36      ,   1.44695243,  74.675     ,\n",
              "          1.44695243, 122.58655891,  30.105     ,   1.45175314,\n",
              "         20.36      ,   1.45175314,  74.675     ,   1.45175314,\n",
              "        117.96015479,  30.105     ,   1.4553798 ,  20.36      ,\n",
              "          1.4553798 ,  74.675     ,   1.4553798 , 107.37685042],\n",
              "       [ 38.752     ,   0.334947  ,  33.448     ,   0.334947  ,\n",
              "         84.975     ,   0.334947  ,  87.78503187,  38.752     ,\n",
              "          1.44695243,  33.448     ,   1.44695243,  84.975     ,\n",
              "          1.44695243, 122.58655891,  38.752     ,   1.45175314,\n",
              "         33.448     ,   1.45175314,  84.975     ,   1.45175314,\n",
              "        117.96015479,  38.752     ,   1.4553798 ,  33.448     ,\n",
              "          1.4553798 ,  84.975     ,   1.4553798 , 107.37685042],\n",
              "       [ 35.355     ,   0.334947  ,  22.152     ,   0.334947  ,\n",
              "         44.1       ,   0.334947  ,  87.78503187,  35.355     ,\n",
              "          1.44695243,  22.152     ,   1.44695243,  44.1       ,\n",
              "          1.44695243, 122.58655891,  35.355     ,   1.45175314,\n",
              "         22.152     ,   1.45175314,  44.1       ,   1.45175314,\n",
              "        117.96015479,  35.355     ,   1.4553798 ,  22.152     ,\n",
              "          1.4553798 ,  44.1       ,   1.4553798 , 107.37685042],\n",
              "       [ 20.19      ,   0.334947  ,  32.5       ,   0.334947  ,\n",
              "        200.172     ,   0.334947  ,  87.78503187,  20.19      ,\n",
              "          1.44695243,  32.5       ,   1.44695243, 200.172     ,\n",
              "          1.44695243, 122.58655891,  20.19      ,   1.45175314,\n",
              "         32.5       ,   1.45175314, 200.172     ,   1.45175314,\n",
              "        117.96015479,  20.19      ,   1.4553798 ,  32.5       ,\n",
              "          1.4553798 , 200.172     ,   1.4553798 , 107.37685042],\n",
              "       [ 35.072     ,   0.334947  ,  37.545     ,   0.334947  ,\n",
              "         88.325     ,   0.334947  ,  87.78503187,  35.072     ,\n",
              "          1.44695243,  37.545     ,   1.44695243,  88.325     ,\n",
              "          1.44695243, 122.58655891,  35.072     ,   1.45175314,\n",
              "         37.545     ,   1.45175314,  88.325     ,   1.45175314,\n",
              "        117.96015479,  35.072     ,   1.4553798 ,  37.545     ,\n",
              "          1.4553798 ,  88.325     ,   1.4553798 , 107.37685042],\n",
              "       [ 20.725     ,   0.334947  ,  26.587     ,   0.334947  ,\n",
              "        204.013     ,   0.334947  ,  87.78503187,  20.725     ,\n",
              "          1.44695243,  26.587     ,   1.44695243, 204.013     ,\n",
              "          1.44695243, 122.58655891,  20.725     ,   1.45175314,\n",
              "         26.587     ,   1.45175314, 204.013     ,   1.45175314,\n",
              "        117.96015479,  20.725     ,   1.4553798 ,  26.587     ,\n",
              "          1.4553798 , 204.013     ,   1.4553798 , 107.37685042],\n",
              "       [ 23.505     ,   0.334947  ,  22.178     ,   0.334947  ,\n",
              "        186.18      ,   0.334947  ,  87.78503187,  23.505     ,\n",
              "          1.44695243,  22.178     ,   1.44695243, 186.18      ,\n",
              "          1.44695243, 122.58655891,  23.505     ,   1.45175314,\n",
              "         22.178     ,   1.45175314, 186.18      ,   1.45175314,\n",
              "        117.96015479,  23.505     ,   1.4553798 ,  22.178     ,\n",
              "          1.4553798 , 186.18      ,   1.4553798 , 107.37685042],\n",
              "       [ 23.262     ,   0.334947  ,  37.413     ,   0.334947  ,\n",
              "        162.825     ,   0.334947  ,  87.78503187,  23.262     ,\n",
              "          1.44695243,  37.413     ,   1.44695243, 162.825     ,\n",
              "          1.44695243, 122.58655891,  23.262     ,   1.45175314,\n",
              "         37.413     ,   1.45175314, 162.825     ,   1.45175314,\n",
              "        117.96015479,  23.262     ,   1.4553798 ,  37.413     ,\n",
              "          1.4553798 , 162.825     ,   1.4553798 , 107.37685042],\n",
              "       [ 35.06      ,   0.334947  ,  37.832     ,   0.334947  ,\n",
              "        189.875     ,   0.334947  ,  87.78503187,  35.06      ,\n",
              "          1.44695243,  37.832     ,   1.44695243, 189.875     ,\n",
              "          1.44695243, 122.58655891,  35.06      ,   1.45175314,\n",
              "         37.832     ,   1.45175314, 189.875     ,   1.45175314,\n",
              "        117.96015479,  35.06      ,   1.4553798 ,  37.832     ,\n",
              "          1.4553798 , 189.875     ,   1.4553798 , 107.37685042]])"
            ]
          },
          "execution_count": 112,
          "metadata": {},
          "output_type": "execute_result"
        }
      ],
      "source": [
        "Xp_test"
      ]
    },
    {
      "cell_type": "code",
      "execution_count": null,
      "id": "93dbfe37",
      "metadata": {
        "id": "93dbfe37",
        "outputId": "37be3845-9f92-4039-8068-907ceaa9d35b"
      },
      "outputs": [
        {
          "name": "stdout",
          "output_type": "stream",
          "text": [
            "1/1 [==============================] - 0s 170ms/step\n"
          ]
        }
      ],
      "source": [
        "model_inp = [[37.273, 0.3421120184016555, 35.227, 0.3421120184016555, 35.227, 0.3421120184016555, 87.722069277059, 37.273, 1.4508075749272553, 35.227, 1.4508075749272553, 35.227, 1.4508075749272553, 122.62876804907191, 37.273, 1.4469922008899332, 35.227, 1.4469922008899332, 35.227, 1.4469922008899332, 117.5938166368181, 37.273, 1.456064256364565, 35.227, 1.456064256364565, 35.227, 1.456064256364565, 107.6973246801287]]\n",
        "inp = scaler.transform(Xp_test)\n",
        "model_output=modelp.predict(X_test_normalized)\n",
        "\n",
        "\n"
      ]
    },
    {
      "cell_type": "code",
      "execution_count": null,
      "id": "d0bdfbb7",
      "metadata": {
        "id": "d0bdfbb7",
        "outputId": "c27d19a1-41b2-47ec-f053-d5a96ea0409a"
      },
      "outputs": [
        {
          "data": {
            "text/plain": [
              "array([[38.423656, 27.318056, 47.352753, 39.461742, 27.462193, 47.064075,\n",
              "        38.190746, 26.79877 , 47.680862, 37.45306 , 28.19018 , 47.57752 ],\n",
              "       [38.507057, 27.360949, 81.5913  , 39.51404 , 27.400745, 81.392426,\n",
              "        38.135403, 26.818834, 81.75278 , 37.431293, 28.169737, 81.61052 ],\n",
              "       [30.22766 , 20.397295, 74.71597 , 30.158756, 19.404303, 74.54474 ,\n",
              "        29.89127 , 19.980057, 74.74436 , 30.038675, 21.794256, 74.65923 ],\n",
              "       [38.81934 , 33.3617  , 84.99428 , 39.828846, 34.194378, 84.81148 ,\n",
              "        38.42956 , 32.84714 , 85.18234 , 37.675434, 33.554657, 85.02715 ],\n",
              "       [35.37075 , 22.13621 , 44.128395, 36.031055, 21.542185, 43.858334,\n",
              "        35.15599 , 21.650282, 44.37024 , 34.72876 , 23.485092, 44.298416]],\n",
              "      dtype=float32)"
            ]
          },
          "execution_count": 143,
          "metadata": {},
          "output_type": "execute_result"
        }
      ],
      "source": [
        "model_output[:5]"
      ]
    },
    {
      "cell_type": "code",
      "execution_count": null,
      "id": "4b2a38c1",
      "metadata": {
        "scrolled": true,
        "id": "4b2a38c1",
        "outputId": "a4aa914f-f981-48d7-9c12-aec2503069b8"
      },
      "outputs": [
        {
          "data": {
            "text/plain": [
              "array([[38.42, 27.57, 47.62, 39.54, 26.66, 47.83, 38.61, 28.65, 46.63,\n",
              "        37.14, 26.65, 47.25],\n",
              "       [38.43, 27.54, 81.81, 39.61, 26.77, 82.2 , 38.54, 28.66, 80.85,\n",
              "        37.19, 26.63, 81.4 ],\n",
              "       [30.27, 20.42, 74.93, 29.63, 19.07, 75.17, 31.38, 20.45, 73.96,\n",
              "        29.14, 21.5 , 74.64],\n",
              "       [38.61, 33.52, 85.27, 40.07, 33.59, 85.55, 38.1 , 34.59, 84.43,\n",
              "        38.23, 32.09, 84.65],\n",
              "       [35.45, 22.21, 44.43, 35.61, 20.79, 44.48, 36.35, 23.05, 43.59,\n",
              "        34.01, 22.56, 43.9 ]])"
            ]
          },
          "execution_count": 144,
          "metadata": {},
          "output_type": "execute_result"
        }
      ],
      "source": [
        "yp_test[:5]"
      ]
    },
    {
      "cell_type": "code",
      "execution_count": null,
      "id": "60d778fa",
      "metadata": {
        "id": "60d778fa"
      },
      "outputs": [],
      "source": []
    }
  ],
  "metadata": {
    "kernelspec": {
      "display_name": "Python 3 (ipykernel)",
      "language": "python",
      "name": "python3"
    },
    "language_info": {
      "codemirror_mode": {
        "name": "ipython",
        "version": 3
      },
      "file_extension": ".py",
      "mimetype": "text/x-python",
      "name": "python",
      "nbconvert_exporter": "python",
      "pygments_lexer": "ipython3",
      "version": "3.10.6"
    },
    "colab": {
      "provenance": []
    }
  },
  "nbformat": 4,
  "nbformat_minor": 5
}